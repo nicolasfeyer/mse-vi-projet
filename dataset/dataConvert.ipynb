{
 "cells": [
  {
   "cell_type": "markdown",
   "id": "ef75eb2c",
   "metadata": {},
   "source": [
    "# VI Project\n",
    "### Import\n"
   ]
  },
  {
   "cell_type": "code",
   "execution_count": 1,
   "id": "7d06733a",
   "metadata": {},
   "outputs": [],
   "source": [
    "import numpy as np\n",
    "import cv2\n",
    "import matplotlib.pyplot as plt\n",
    "import pandas as pd"
   ]
  },
  {
   "cell_type": "markdown",
   "id": "d9c7c474",
   "metadata": {},
   "source": [
    "### Source."
   ]
  },
  {
   "cell_type": "code",
   "execution_count": 2,
   "id": "c9f3a7e3",
   "metadata": {},
   "outputs": [],
   "source": [
    "dataFrame = pd.read_csv('migration_population.csv')\n",
    "#dataFrame.head()\n",
    "    \n"
   ]
  },
  {
   "cell_type": "markdown",
   "id": "f46cd914",
   "metadata": {},
   "source": [
    "### Info."
   ]
  },
  {
   "cell_type": "code",
   "execution_count": 17,
   "id": "f52f16f1",
   "metadata": {},
   "outputs": [
    {
     "name": "stdout",
     "output_type": "stream",
     "text": [
      "21389.1\n",
      "14.384588158319183\n"
     ]
    },
    {
     "data": {
      "image/png": "[encoded data removed]",
      "text/plain": [
       "<Figure size 432x288 with 1 Axes>"
      ]
     },
     "metadata": {
      "needs_background": "light"
     },
     "output_type": "display_data"
    }
   ],
   "source": [
    "#max pop_density\n",
    "print(dataFrame.pop_density.max())\n",
    "#dataFrame.pop_density.hist(bins=[0, 10, 20, 40, 80, 160, 320, 640, 1280, 2560])\n",
    "#dataFrame.pop_density.hist(bins=[0, 10, 20, 40, 80, 160, 320, 640, 1280])\n",
    "np.log2(dataFrame.pop_density).hist()\n",
    "print(np.log2(dataFrame.pop_density).max())"
   ]
  },
  {
   "cell_type": "markdown",
   "id": "91b3399f",
   "metadata": {},
   "source": [
    "### Export as JSON [year][country (code iso2c)][rest of the data]"
   ]
  },
  {
   "cell_type": "code",
   "execution_count": null,
   "id": "e7984237",
   "metadata": {},
   "outputs": [],
   "source": [
    "jSstr = \"{\"\n",
    "for i in dataFrame.year.unique():\n",
    "    dataFrame_by_year = (dataFrame.loc[dataFrame['year'] == i]).drop(['year'], axis=1)[46:].set_index('iso2c')\n",
    "    jSstr += \"\\\"\" + str(i) + \"\\\":\" + dataFrame_by_year.to_json(orient=\"index\") + \",\"\n",
    "jSstr = jSstr \"}\"\n",
    "with open(\"Output.json\", \"w\") as text_file:\n",
    "    text_file.write(jSstr)   "
   ]
  },
  {
   "cell_type": "code",
   "execution_count": null,
   "id": "3b72dedd",
   "metadata": {},
   "outputs": [],
   "source": []
  }
 ],
 "metadata": {
  "kernelspec": {
   "display_name": "Python 3 (ipykernel)",
   "language": "python",
   "name": "python3"
  },
  "language_info": {
   "codemirror_mode": {
    "name": "ipython",
    "version": 3
   },
   "file_extension": ".py",
   "mimetype": "text/x-python",
   "name": "python",
   "nbconvert_exporter": "python",
   "pygments_lexer": "ipython3",
   "version": "3.9.7"
  }
 },
 "nbformat": 4,
 "nbformat_minor": 5
}
