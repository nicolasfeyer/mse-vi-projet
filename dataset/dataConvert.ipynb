{
 "cells": [
  {
   "cell_type": "markdown",
   "id": "ef75eb2c",
   "metadata": {},
   "source": [
    "# DigImPro\n",
    "## Exercice \n"
   ]
  },
  {
   "cell_type": "code",
   "execution_count": 1,
   "id": "7d06733a",
   "metadata": {},
   "outputs": [],
   "source": [
    "import numpy as np\n",
    "import cv2\n",
    "import matplotlib.pyplot as plt\n",
    "import pandas as pd"
   ]
  },
  {
   "cell_type": "markdown",
   "id": "d9c7c474",
   "metadata": {},
   "source": [
    "### Tools."
   ]
  },
  {
   "cell_type": "code",
   "execution_count": 47,
   "id": "c9f3a7e3",
   "metadata": {},
   "outputs": [],
   "source": [
    "dataFrame = pd.read_csv('migration_population.csv')\n",
    "#dataFrame.head()\n",
    "jSstr = \"{\"\n",
    "for i in dataFrame.year.unique():\n",
    "    dataFrame_by_year = (dataFrame.loc[dataFrame['year'] == i]).drop(['year'], axis=1)[46:].set_index('iso2c')\n",
    "    jSstr += \"\\\"\" + str(i) + \"\\\":\" + dataFrame_by_year.to_json(orient=\"index\") + \",\"\n",
    "jSstr = jSstr \"}\"\n",
    "with open(\"Output.json\", \"w\") as text_file:\n",
    "    text_file.write(jSstr)       \n"
   ]
  },
  {
   "cell_type": "markdown",
   "id": "91b3399f",
   "metadata": {},
   "source": [
    "### 2."
   ]
  },
  {
   "cell_type": "code",
   "execution_count": null,
   "id": "e7984237",
   "metadata": {},
   "outputs": [],
   "source": []
  },
  {
   "cell_type": "code",
   "execution_count": null,
   "id": "3b72dedd",
   "metadata": {},
   "outputs": [],
   "source": []
  },
  {
   "cell_type": "markdown",
   "id": "71b57341",
   "metadata": {},
   "source": [
    "### 3."
   ]
  },
  {
   "cell_type": "code",
   "execution_count": null,
   "id": "5003dfbd",
   "metadata": {},
   "outputs": [],
   "source": []
  },
  {
   "cell_type": "code",
   "execution_count": null,
   "id": "c2853506",
   "metadata": {},
   "outputs": [],
   "source": []
  },
  {
   "cell_type": "code",
   "execution_count": null,
   "id": "f1fb4ee3",
   "metadata": {},
   "outputs": [],
   "source": []
  },
  {
   "cell_type": "code",
   "execution_count": null,
   "id": "761f0c92",
   "metadata": {},
   "outputs": [],
   "source": []
  },
  {
   "cell_type": "markdown",
   "id": "59e78b2b",
   "metadata": {},
   "source": [
    "### 4."
   ]
  },
  {
   "cell_type": "code",
   "execution_count": null,
   "id": "f62f3c8e",
   "metadata": {},
   "outputs": [],
   "source": []
  },
  {
   "cell_type": "code",
   "execution_count": null,
   "id": "2d0ea678",
   "metadata": {},
   "outputs": [],
   "source": []
  },
  {
   "cell_type": "markdown",
   "id": "abf365a1",
   "metadata": {},
   "source": [
    "### 5."
   ]
  },
  {
   "cell_type": "code",
   "execution_count": null,
   "id": "48395400",
   "metadata": {},
   "outputs": [],
   "source": []
  },
  {
   "cell_type": "code",
   "execution_count": null,
   "id": "8eee294f",
   "metadata": {},
   "outputs": [],
   "source": []
  },
  {
   "cell_type": "code",
   "execution_count": null,
   "id": "2251a837",
   "metadata": {},
   "outputs": [],
   "source": []
  },
  {
   "cell_type": "code",
   "execution_count": null,
   "id": "3ccfb885",
   "metadata": {},
   "outputs": [],
   "source": []
  }
 ],
 "metadata": {
  "kernelspec": {
   "display_name": "Python 3 (ipykernel)",
   "language": "python",
   "name": "python3"
  },
  "language_info": {
   "codemirror_mode": {
    "name": "ipython",
    "version": 3
   },
   "file_extension": ".py",
   "mimetype": "text/x-python",
   "name": "python",
   "nbconvert_exporter": "python",
   "pygments_lexer": "ipython3",
   "version": "3.9.7"
  }
 },
 "nbformat": 4,
 "nbformat_minor": 5
}
