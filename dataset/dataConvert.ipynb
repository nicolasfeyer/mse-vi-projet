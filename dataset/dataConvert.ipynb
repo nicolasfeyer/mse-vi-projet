{
 "cells": [
  {
   "cell_type": "markdown",
   "id": "ef75eb2c",
   "metadata": {},
   "source": [
    "# VI Project\n",
    "### Import\n"
   ]
  },
  {
   "cell_type": "code",
   "execution_count": 30,
   "id": "7d06733a",
   "metadata": {},
   "outputs": [],
   "source": [
    "import numpy as np\n",
    "import cv2\n",
    "import matplotlib.pyplot as plt\n",
    "import pandas as pd"
   ]
  },
  {
   "cell_type": "markdown",
   "id": "d9c7c474",
   "metadata": {},
   "source": [
    "### Source."
   ]
  },
  {
   "cell_type": "code",
   "execution_count": 31,
   "id": "c9f3a7e3",
   "metadata": {},
   "outputs": [
    {
     "name": "stdout",
     "output_type": "stream",
     "text": [
      "          country  year   population  pop_density  net_migration  \\\n",
      "0      Arab World  2018  419790588.0    37.372365            NaN   \n",
      "1      Arab World  2017  411898965.0    36.669804     -1408824.0   \n",
      "2      Arab World  2016  404024433.0    35.968764            NaN   \n",
      "3      Arab World  2015  396028278.0    35.256897            NaN   \n",
      "4      Arab World  2014  387907748.0    34.533978            NaN   \n",
      "...           ...   ...          ...          ...            ...   \n",
      "15571    Zimbabwe  1964    4322861.0    11.174515            NaN   \n",
      "15572    Zimbabwe  1963    4178726.0    10.801928            NaN   \n",
      "15573    Zimbabwe  1962    4039201.0    10.441259       -15009.0   \n",
      "15574    Zimbabwe  1961    3905034.0    10.094440            NaN   \n",
      "15575    Zimbabwe  1960    3776681.0          NaN            NaN   \n",
      "\n",
      "       migration_perc iso3c iso2c               region  \\\n",
      "0                 NaN   ARB    1A           Aggregates   \n",
      "1           -0.003420   ARB    1A           Aggregates   \n",
      "2                 NaN   ARB    1A           Aggregates   \n",
      "3                 NaN   ARB    1A           Aggregates   \n",
      "4                 NaN   ARB    1A           Aggregates   \n",
      "...               ...   ...   ...                  ...   \n",
      "15571             NaN   ZWE    ZW  Sub-Saharan Africa    \n",
      "15572             NaN   ZWE    ZW  Sub-Saharan Africa    \n",
      "15573       -0.003716   ZWE    ZW  Sub-Saharan Africa    \n",
      "15574             NaN   ZWE    ZW  Sub-Saharan Africa    \n",
      "15575             NaN   ZWE    ZW  Sub-Saharan Africa    \n",
      "\n",
      "                                      adminregion          incomeLevel  \\\n",
      "0                                             NaN           Aggregates   \n",
      "1                                             NaN           Aggregates   \n",
      "2                                             NaN           Aggregates   \n",
      "3                                             NaN           Aggregates   \n",
      "4                                             NaN           Aggregates   \n",
      "...                                           ...                  ...   \n",
      "15571  Sub-Saharan Africa (excluding high income)  Lower middle income   \n",
      "15572  Sub-Saharan Africa (excluding high income)  Lower middle income   \n",
      "15573  Sub-Saharan Africa (excluding high income)  Lower middle income   \n",
      "15574  Sub-Saharan Africa (excluding high income)  Lower middle income   \n",
      "15575  Sub-Saharan Africa (excluding high income)  Lower middle income   \n",
      "\n",
      "      lendingType capitalCity  longitude  latitude  \n",
      "0      Aggregates         NaN        NaN       NaN  \n",
      "1      Aggregates         NaN        NaN       NaN  \n",
      "2      Aggregates         NaN        NaN       NaN  \n",
      "3      Aggregates         NaN        NaN       NaN  \n",
      "4      Aggregates         NaN        NaN       NaN  \n",
      "...           ...         ...        ...       ...  \n",
      "15571       Blend      Harare    31.0672  -17.8312  \n",
      "15572       Blend      Harare    31.0672  -17.8312  \n",
      "15573       Blend      Harare    31.0672  -17.8312  \n",
      "15574       Blend      Harare    31.0672  -17.8312  \n",
      "15575       Blend      Harare    31.0672  -17.8312  \n",
      "\n",
      "[15576 rows x 15 columns]\n"
     ]
    }
   ],
   "source": [
    "dataFrame = pd.read_csv('migration_population.csv')\n",
    "dataFrame.head()\n",
    "print(dataFrame)\n"
   ]
  },
  {
   "cell_type": "markdown",
   "id": "f46cd914",
   "metadata": {},
   "source": [
    "### Info. density"
   ]
  },
  {
   "cell_type": "code",
   "execution_count": 17,
   "id": "f52f16f1",
   "metadata": {},
   "outputs": [
    {
     "name": "stdout",
     "output_type": "stream",
     "text": [
      "21389.1\n",
      "14.384588158319183\n"
     ]
    },
    {
     "data": {
      "image/png": "[encoded data removed]",
      "text/plain": [
       "<Figure size 432x288 with 1 Axes>"
      ]
     },
     "metadata": {
      "needs_background": "light"
     },
     "output_type": "display_data"
    }
   ],
   "source": [
    "#max pop_density\n",
    "print(dataFrame.pop_density.max())\n",
    "#dataFrame.pop_density.hist(bins=[0, 10, 20, 40, 80, 160, 320, 640, 1280, 2560])\n",
    "#dataFrame.pop_density.hist(bins=[0, 10, 20, 40, 80, 160, 320, 640, 1280])\n",
    "np.log2(dataFrame.pop_density).hist()\n",
    "print(np.log2(dataFrame.pop_density).max())"
   ]
  },
  {
   "cell_type": "markdown",
   "id": "660c7b98",
   "metadata": {},
   "source": [
    "### Info. pop"
   ]
  },
  {
   "cell_type": "code",
   "execution_count": 20,
   "id": "b5de1563",
   "metadata": {},
   "outputs": [
    {
     "name": "stdout",
     "output_type": "stream",
     "text": [
      "3893.0\n",
      "7594270356.0\n"
     ]
    },
    {
     "data": {
      "text/plain": [
       "<AxesSubplot:>"
      ]
     },
     "execution_count": 20,
     "metadata": {},
     "output_type": "execute_result"
    },
    {
     "data": {
      "image/png": "[encoded data removed]",
      "text/plain": [
       "<Figure size 432x288 with 1 Axes>"
      ]
     },
     "metadata": {
      "needs_background": "light"
     },
     "output_type": "display_data"
    }
   ],
   "source": [
    "print(dataFrame.population.min())\n",
    "print(dataFrame.population.max())\n",
    "dataFrame.population.hist()"
   ]
  },
  {
   "cell_type": "markdown",
   "id": "180bdd98",
   "metadata": {},
   "source": [
    "### Info. net_migration"
   ]
  },
  {
   "cell_type": "code",
   "execution_count": 25,
   "id": "92df3872",
   "metadata": {},
   "outputs": [
    {
     "name": "stdout",
     "output_type": "stream",
     "text": [
      "-23348620.0\n",
      "23392352.0\n"
     ]
    },
    {
     "data": {
      "text/plain": [
       "<AxesSubplot:>"
      ]
     },
     "execution_count": 25,
     "metadata": {},
     "output_type": "execute_result"
    },
    {
     "data": {
      "image/png": "[encoded data removed]",
      "text/plain": [
       "<Figure size 432x288 with 1 Axes>"
      ]
     },
     "metadata": {
      "needs_background": "light"
     },
     "output_type": "display_data"
    }
   ],
   "source": [
    "print(dataFrame.net_migration.min())\n",
    "print(dataFrame.net_migration.max())\n",
    "dataFrame.net_migration.hist(bins=[-2000000, -100000, 20, 40, 80, 160, 320, 640, 1280])"
   ]
  },
  {
   "cell_type": "markdown",
   "id": "dd5bb4a2",
   "metadata": {},
   "source": [
    "### Info. migration_perc"
   ]
  },
  {
   "cell_type": "code",
   "execution_count": 22,
   "id": "1ce46345",
   "metadata": {},
   "outputs": [
    {
     "name": "stdout",
     "output_type": "stream",
     "text": [
      "-0.2635184148585051\n",
      "0.7870346311190607\n"
     ]
    },
    {
     "data": {
      "text/plain": [
       "<AxesSubplot:>"
      ]
     },
     "execution_count": 22,
     "metadata": {},
     "output_type": "execute_result"
    },
    {
     "data": {
      "image/png": "[encoded data removed]",
      "text/plain": [
       "<Figure size 432x288 with 1 Axes>"
      ]
     },
     "metadata": {
      "needs_background": "light"
     },
     "output_type": "display_data"
    }
   ],
   "source": [
    "print(dataFrame.migration_perc.min())\n",
    "print(dataFrame.migration_perc.max())\n",
    "dataFrame.migration_perc.hist()"
   ]
  },
  {
   "cell_type": "markdown",
   "id": "6383186c",
   "metadata": {},
   "source": [
    "### Info. incomeLevel"
   ]
  },
  {
   "cell_type": "code",
   "execution_count": 23,
   "id": "f0400955",
   "metadata": {},
   "outputs": [
    {
     "name": "stdout",
     "output_type": "stream",
     "text": [
      "['Aggregates' nan 'Low income' 'Upper middle income' 'High income'\n",
      " 'Lower middle income']\n"
     ]
    },
    {
     "data": {
      "text/plain": [
       "<AxesSubplot:>"
      ]
     },
     "execution_count": 23,
     "metadata": {},
     "output_type": "execute_result"
    },
    {
     "data": {
      "image/png": "[encoded data removed]",
      "text/plain": [
       "<Figure size 432x288 with 1 Axes>"
      ]
     },
     "metadata": {
      "needs_background": "light"
     },
     "output_type": "display_data"
    }
   ],
   "source": [
    "print(pd.unique(dataFrame.incomeLevel))\n",
    "dataFrame.incomeLevel.hist()"
   ]
  },
  {
   "cell_type": "markdown",
   "id": "813027dd",
   "metadata": {},
   "source": [
    "### info region"
   ]
  },
  {
   "cell_type": "code",
   "execution_count": 24,
   "id": "0e79cb27",
   "metadata": {},
   "outputs": [
    {
     "name": "stdout",
     "output_type": "stream",
     "text": [
      "['Aggregates' nan 'South Asia' 'Europe & Central Asia'\n",
      " 'Middle East & North Africa' 'East Asia & Pacific' 'Sub-Saharan Africa '\n",
      " 'Latin America & Caribbean ' 'North America']\n"
     ]
    },
    {
     "data": {
      "text/plain": [
       "<AxesSubplot:>"
      ]
     },
     "execution_count": 24,
     "metadata": {},
     "output_type": "execute_result"
    },
    {
     "data": {
      "image/png": "[encoded data removed]",
      "text/plain": [
       "<Figure size 432x288 with 1 Axes>"
      ]
     },
     "metadata": {
      "needs_background": "light"
     },
     "output_type": "display_data"
    }
   ],
   "source": [
    "print(pd.unique(dataFrame.region))\n",
    "dataFrame.region.hist()"
   ]
  },
  {
   "cell_type": "markdown",
   "id": "91b3399f",
   "metadata": {},
   "source": [
    "### Export as JSON [year][country (code iso2c)][rest of the data]"
   ]
  },
  {
   "cell_type": "code",
   "execution_count": null,
   "id": "e7984237",
   "metadata": {},
   "outputs": [],
   "source": [
    "jSstr = \"{\"\n",
    "for i in dataFrame.year.unique():\n",
    "    dataFrame_by_year = (dataFrame.loc[dataFrame['year'] == i]).drop(['year'], axis=1)[46:].set_index('iso2c')\n",
    "    jSstr += \"\\\"\" + str(i) + \"\\\":\" + dataFrame_by_year.to_json(orient=\"index\") + \",\"\n",
    "jSstr = jSstr \"}\"\n",
    "with open(\"Output.json\", \"w\") as text_file:\n",
    "    text_file.write(jSstr)   "
   ]
  },
  {
   "cell_type": "markdown",
   "id": "08dfa86b",
   "metadata": {},
   "source": [
    "### Export as CSV"
   ]
  },
  {
   "cell_type": "code",
   "execution_count": 40,
   "id": "fbbf66f5",
   "metadata": {},
   "outputs": [],
   "source": [
    "dfCsvExp = (dataFrame.loc[dataFrame['year'] == 2017]).drop(['year'], axis=1)[46:]\n",
    "dfCsvExp.to_csv(\"datacsv.csv\")"
   ]
  },
  {
   "cell_type": "markdown",
   "id": "ca18d373",
   "metadata": {},
   "source": [
    "### Exort as JSon full"
   ]
  },
  {
   "cell_type": "code",
   "execution_count": 41,
   "id": "e09e7325",
   "metadata": {},
   "outputs": [],
   "source": [
    "dfJSONExp = (dataFrame.loc[dataFrame['year'] == 2017]).drop(['year'], axis=1)[46:]\n",
    "jSstr = dfJSONExp.to_json(orient=\"index\")\n",
    "with open(\"OutputFull.json\", \"w\") as text_file:\n",
    "    text_file.write(jSstr)   "
   ]
  },
  {
   "cell_type": "code",
   "execution_count": null,
   "id": "ea8dffb1",
   "metadata": {},
   "outputs": [],
   "source": []
  }
 ],
 "metadata": {
  "kernelspec": {
   "display_name": "Python 3 (ipykernel)",
   "language": "python",
   "name": "python3"
  },
  "language_info": {
   "codemirror_mode": {
    "name": "ipython",
    "version": 3
   },
   "file_extension": ".py",
   "mimetype": "text/x-python",
   "name": "python",
   "nbconvert_exporter": "python",
   "pygments_lexer": "ipython3",
   "version": "3.9.7"
  }
 },
 "nbformat": 4,
 "nbformat_minor": 5
}
